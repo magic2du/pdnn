{
 "metadata": {
  "name": "",
  "signature": "sha256:9811a0fb8bc2f43fd284b8fdb6c603ab426140b8dae48e8d03bc1eab9d7a78dd"
 },
 "nbformat": 3,
 "nbformat_minor": 0,
 "worksheets": [
  {
   "cells": [
    {
     "cell_type": "code",
     "collapsed": false,
     "input": [
      "import sys\n",
      "\n",
      "sys.path.append('/home/du/workspace/pdnn/')\n",
      "import cPickle\n",
      "import gzip\n",
      "import os\n",
      "import sys\n",
      "import time\n",
      "\n",
      "import numpy\n",
      "import theano\n",
      "import theano.tensor as T\n",
      "from theano.tensor.shared_randomstreams import RandomStreams\n",
      "\n",
      "from models.dnn import DNN\n",
      "from models.dropout_nnet import DNN_Dropout\n",
      "\n",
      "from io_func.model_io import _nnet2file, _cfg2file, _file2nnet, log\n",
      "from utils.utils import parse_arguments\n",
      "from utils.learn_rates import _lrate2file, _file2lrate\n",
      "\n",
      "from utils.network_config import NetworkConfig\n",
      "from learning.sgd import train_sgd, validate_by_minibatch\n",
      "sys.path.append('/home/du/Dropbox/Project/libs/')\n",
      "from  DL_libs import NetworkDisplayer"
     ],
     "language": "python",
     "metadata": {},
     "outputs": [],
     "prompt_number": 1
    },
    {
     "cell_type": "code",
     "collapsed": false,
     "input": [
      "from DL_libs import *\n",
      "cfg = NetworkConfig()\n",
      "arguments = {}\n",
      "arguments['ptr_file'] = 'sda.mdl'\n",
      "arguments['ptr_layer_number'] = 4\n",
      "# parse pre-training options\n",
      "# pre-training files and layer number (how many layers are set to the pre-training parameters)\n",
      "ptr_layer_number = 0; ptr_file = ''\n",
      "if arguments.has_key('ptr_file') and arguments.has_key('ptr_layer_number'):\n",
      "    ptr_file = arguments['ptr_file']\n",
      "    ptr_layer_number = int(arguments['ptr_layer_number'])\n",
      "cfg.hidden_layers_sizes = [1024,1024, 1024,1024]\n",
      "cfg.n_ins = 28*28\n",
      "cfg.n_outs = 10\n",
      "numpy_rng = numpy.random.RandomState(89677)\n",
      "theano_rng = RandomStreams(numpy_rng.randint(2 ** 30))\n",
      "log('> ... building the model')\n",
      "# setup model\n",
      "if cfg.do_dropout:\n",
      "    dnn = DNN_Dropout(theano_rng = theano_rng, cfg = cfg)\n",
      "else:\n",
      "    dnn = DNN(numpy_rng=numpy_rng, theano_rng = theano_rng, cfg = cfg)\n",
      "\n",
      "# initialize model parameters\n",
      "# if not resuming training, initialized from the specified pre-training file\n",
      "# if resuming training, initialized from the tmp model file\n",
      "resume_training = False\n",
      "if (ptr_layer_number > 0) and (resume_training is False):\n",
      "    _file2nnet(dnn.layers, set_layer_num = ptr_layer_number, filename = ptr_file)\n",
      " "
     ],
     "language": "python",
     "metadata": {},
     "outputs": [
      {
       "output_type": "stream",
       "stream": "stderr",
       "text": [
        "[2015-02-11 17:02:51.995346] > ... building the model\n"
       ]
      }
     ],
     "prompt_number": 2
    },
    {
     "cell_type": "code",
     "collapsed": false,
     "input": [
      "ddn_display = NetworkDisplayer(dnn)"
     ],
     "language": "python",
     "metadata": {},
     "outputs": [],
     "prompt_number": 3
    },
    {
     "cell_type": "code",
     "collapsed": false,
     "input": [
      "ddn_display.save_to_file('4layers_Sda')"
     ],
     "language": "python",
     "metadata": {},
     "outputs": [],
     "prompt_number": 6
    },
    {
     "cell_type": "code",
     "collapsed": false,
     "input": [
      "cfg.hidden_layers_sizes = [1024,1024, 1024,1024]"
     ],
     "language": "python",
     "metadata": {},
     "outputs": [],
     "prompt_number": 13
    },
    {
     "cell_type": "code",
     "collapsed": false,
     "input": [
      "dnn.layers"
     ],
     "language": "python",
     "metadata": {},
     "outputs": [
      {
       "metadata": {},
       "output_type": "pyout",
       "prompt_number": 4,
       "text": [
        "[<layers.mlp.HiddenLayer at 0x4d76850>,\n",
        " <layers.mlp.HiddenLayer at 0x4e06810>,\n",
        " <layers.mlp.HiddenLayer at 0x4e0c4d0>,\n",
        " <layers.mlp.HiddenLayer at 0x4e0ca10>,\n",
        " <layers.logistic_sgd.LogisticRegression at 0x4e10510>]"
       ]
      }
     ],
     "prompt_number": 4
    },
    {
     "cell_type": "code",
     "collapsed": false,
     "input": [
      "dnn.layers[0].W.get_value()"
     ],
     "language": "python",
     "metadata": {},
     "outputs": [
      {
       "metadata": {},
       "output_type": "pyout",
       "prompt_number": 19,
       "text": [
        "array([[ 0.05825309, -0.17093381,  0.12715788, ...,  0.19649486,\n",
        "         0.12562987,  0.10363889],\n",
        "       [ 0.15318908,  0.00196952, -0.11474164, ..., -0.11002812,\n",
        "        -0.101976  , -0.16923016],\n",
        "       [ 0.10584705,  0.11674136,  0.19671758, ...,  0.06595313,\n",
        "         0.10956313,  0.20482829],\n",
        "       ..., \n",
        "       [-0.12144178,  0.14372446,  0.04866916, ..., -0.1012565 ,\n",
        "        -0.11582294,  0.06844509],\n",
        "       [-0.00157167, -0.0622277 ,  0.21043231, ..., -0.13329311,\n",
        "         0.13383719,  0.20964399],\n",
        "       [ 0.2083016 ,  0.03745613,  0.12747636, ...,  0.14082959,\n",
        "         0.0639781 ,  0.22026834]], dtype=float32)"
       ]
      }
     ],
     "prompt_number": 19
    },
    {
     "cell_type": "code",
     "collapsed": false,
     "input": [],
     "language": "python",
     "metadata": {},
     "outputs": [],
     "prompt_number": 0
    },
    {
     "cell_type": "code",
     "collapsed": false,
     "input": [],
     "language": "python",
     "metadata": {},
     "outputs": [],
     "prompt_number": 0
    },
    {
     "cell_type": "code",
     "collapsed": false,
     "input": [],
     "language": "python",
     "metadata": {},
     "outputs": []
    }
   ],
   "metadata": {}
  }
 ]
}